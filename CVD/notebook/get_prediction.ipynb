{
 "cells": [
  {
   "cell_type": "code",
   "execution_count": null,
   "id": "6bfbb5bd-75b5-478d-b262-5b2f6113f0b0",
   "metadata": {},
   "outputs": [],
   "source": []
  }
 ],
 "metadata": {
  "kernelspec": {
   "display_name": "",
   "name": ""
  },
  "language_info": {
   "name": ""
  }
 },
 "nbformat": 4,
 "nbformat_minor": 5
}
