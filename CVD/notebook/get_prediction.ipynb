{
 "cells": [
  {
   "cell_type": "markdown",
   "id": "544ea01c-88fb-4314-a0ff-53fdec0ca12f",
   "metadata": {},
   "source": [
    "# Load models and get predictions"
   ]
  },
  {
   "cell_type": "code",
   "execution_count": 4,
   "id": "3d07edb6-d193-4ba4-8f5a-bdd36901a25a",
   "metadata": {},
   "outputs": [],
   "source": [
    "import joblib\n",
    "import numpy as np\n",
    "import pandas as pd\n",
    "import tensorflow as tf\n",
    "import pickle\n",
    "import matplotlib.pyplot as plt\n",
    "from sklearn.preprocessing import StandardScaler\n",
    "from joblib import load\n",
    "from tensorflow.keras.models import load_model"
   ]
  },
  {
   "cell_type": "code",
   "execution_count": null,
   "id": "2ccc7aec-39f6-4909-b551-44c84e81da33",
   "metadata": {},
   "outputs": [],
   "source": [
    "# Define the feature names in the correct order\n",
    "feature_names = [\n",
    "    'age', 'sex', 'chest_pain_type', 'resting_blood_pressure', \n",
    "    'cholesterol', 'fasting_blood_sugar', 'resting_electrocardiogram',\n",
    "    'max_heart_rate_achieved', 'exercise_induced_angina', 'st_depression',\n",
    "    'st_slope', 'num_major_vessels', 'thalassemia'\n",
    "]\n",
    "# Sample input \n",
    "sample_input = {\n",
    "    'age': 55,\n",
    "    'sex': 1,\n",
    "    'chest_pain_type': 2,\n",
    "    'resting_blood_pressure': 130,\n",
    "    'cholesterol': 250,\n",
    "    'fasting_blood_sugar': 0,\n",
    "    'resting_electrocardiogram': 1,\n",
    "    'max_heart_rate_achieved': 150,\n",
    "    'exercise_induced_angina': 0,\n",
    "    'st_depression': 1.0,\n",
    "    'st_slope': 2,\n",
    "    'num_major_vessels': 1,\n",
    "    'thalassemia': 3\n",
    "}"
   ]
  },
  {
   "cell_type": "code",
   "execution_count": 5,
   "id": "4f5f1d15-5a07-4321-9387-71aee38ab459",
   "metadata": {},
   "outputs": [],
   "source": [
    "# lgbmclassifier model \n",
    "loaded_model = joblib.load('models/lgbm_model.pkl')"
   ]
  },
  {
   "cell_type": "code",
   "execution_count": 7,
   "id": "8dbd2f0c-fa08-4ee8-a856-0e321afb6528",
   "metadata": {},
   "outputs": [],
   "source": [
    "sample_input = {\n",
    "    'age': 52,\n",
    "        'sex': 1,\n",
    "        'chest_pain_type': 2,\n",
    "        'resting_blood_pressure': 128,\n",
    "        'cholesterol': 205,\n",
    "        'fasting_blood_sugar': 0,\n",
    "        'resting_electrocardiogram': 1,\n",
    "        'max_heart_rate_achieved': 184,\n",
    "        'exercise_induced_angina': 0,\n",
    "        'st_depression': 0.0,\n",
    "        'st_slope': 2,\n",
    "        'num_major_vessels': 0,\n",
    "        'thalassemia': 2\n",
    "}"
   ]
  },
  {
   "cell_type": "code",
   "execution_count": 8,
   "id": "c593ad6f-057d-495a-968d-6cde35923316",
   "metadata": {},
   "outputs": [],
   "source": [
    "# Define the expected feature names (must match X_train from training)\n",
    "expected_features = [\n",
    "    'age', 'sex', 'chest_pain_type', 'resting_blood_pressure', 'cholesterol',\n",
    "    'fasting_blood_sugar', 'resting_electrocardiogram', 'max_heart_rate_achieved',\n",
    "    'exercise_induced_angina', 'st_depression', 'st_slope', 'num_major_vessels', 'thalassemia'\n",
    "]"
   ]
  },
  {
   "cell_type": "code",
   "execution_count": 9,
   "id": "7da5c108-82ef-4403-930d-e930ed352d1f",
   "metadata": {},
   "outputs": [],
   "source": [
    "# Convert sample input to DataFrame with correct feature names\n",
    "sample_df = pd.DataFrame([sample_input], columns=expected_features)"
   ]
  },
  {
   "cell_type": "code",
   "execution_count": 10,
   "id": "7e0578e3-ba02-40c9-993a-c2d7d8903375",
   "metadata": {},
   "outputs": [],
   "source": [
    "prediction = loaded_model.predict(sample_df)"
   ]
  },
  {
   "cell_type": "code",
   "execution_count": 11,
   "id": "8f2b0a92-d23b-46f5-943c-0cfac1674118",
   "metadata": {},
   "outputs": [],
   "source": [
    "prediction_proba = loaded_model.predict_proba(sample_df)"
   ]
  },
  {
   "cell_type": "code",
   "execution_count": 12,
   "id": "36127fa8-75fa-4c0b-9e0b-3c21b7b41624",
   "metadata": {},
   "outputs": [
    {
     "name": "stdout",
     "output_type": "stream",
     "text": [
      "Prediction: Disease\n",
      "Prediction Probability: [0.00215327 0.99784673]\n"
     ]
    }
   ],
   "source": [
    "print(f\"Prediction: {'Disease' if prediction[0] == 1 else 'No Disease'}\")\n",
    "print(f\"Prediction Probability: {prediction_proba[0]}\")"
   ]
  },
  {
   "cell_type": "code",
   "execution_count": 2,
   "id": "316b3527-fb1d-46e8-8ec7-2f1b2dc59e99",
   "metadata": {},
   "outputs": [
    {
     "name": "stdout",
     "output_type": "stream",
     "text": [
      "✅ Predictor initialized successfully\n",
      "\u001b[1m1/1\u001b[0m \u001b[32m━━━━━━━━━━━━━━━━━━━━\u001b[0m\u001b[37m\u001b[0m \u001b[1m0s\u001b[0m 85ms/step\n",
      "\n",
      "🔍 Prediction Results:\n",
      "- Probability: 0.9953\n",
      "- Prediction: Positive for heart disease\n",
      "- Confidence: 99.1%\n",
      "\n",
      "🚨 Clinical Alert: Consider further cardiac evaluation\n"
     ]
    }
   ],
   "source": [
    "import numpy as np\n",
    "import pandas as pd\n",
    "from tensorflow.keras.models import load_model\n",
    "from sklearn.preprocessing import StandardScaler\n",
    "from joblib import load\n",
    "import os\n",
    "\n",
    "class HeartDiseasePredictor:\n",
    "    def __init__(self):\n",
    "        # Initialize paths\n",
    "        self.model_path = \"models/computer_cnn_model.keras\"\n",
    "        self.scaler_path = \"models/scaler.pkl\"\n",
    "        \n",
    "        # Load assets\n",
    "        self.model = self._load_model()\n",
    "        self.scaler = self._load_scaler()\n",
    "        self.feature_names = [\n",
    "            'age', 'sex', 'chest_pain_type', 'resting_blood_pressure',\n",
    "            'cholesterol', 'fasting_blood_sugar', 'resting_electrocardiogram',\n",
    "            'max_heart_rate_achieved', 'exercise_induced_angina', 'st_depression',\n",
    "            'st_slope', 'num_major_vessels', 'thalassemia'\n",
    "        ]\n",
    "    \n",
    "    def _load_model(self):\n",
    "        \"\"\"Load the trained CNN model\"\"\"\n",
    "        if not os.path.exists(self.model_path):\n",
    "            raise FileNotFoundError(f\"Model file not found at {self.model_path}\")\n",
    "        \n",
    "        try:\n",
    "            return load_model(self.model_path)\n",
    "        except Exception as e:\n",
    "            raise RuntimeError(f\"Error loading model: {str(e)}\")\n",
    "    \n",
    "    def _load_scaler(self):\n",
    "        \"\"\"Load the saved scaler\"\"\"\n",
    "        if not os.path.exists(self.scaler_path):\n",
    "            raise FileNotFoundError(f\"Scaler file not found at {self.scaler_path}\")\n",
    "        \n",
    "        try:\n",
    "            return load(self.scaler_path)\n",
    "        except Exception as e:\n",
    "            raise RuntimeError(f\"Error loading scaler: {str(e)}\")\n",
    "    \n",
    "    def preprocess_input(self, input_data):\n",
    "        \"\"\"Validate and preprocess input features\"\"\"\n",
    "        # Convert to DataFrame to maintain feature order\n",
    "        try:\n",
    "            input_df = pd.DataFrame([input_data], columns=self.feature_names)\n",
    "            \n",
    "            # Convert all values to numeric\n",
    "            input_df = input_df.apply(pd.to_numeric, errors='coerce')\n",
    "            if input_df.isnull().any().any():\n",
    "                raise ValueError(\"Invalid input values detected\")\n",
    "                \n",
    "            return input_df.values\n",
    "        except Exception as e:\n",
    "            raise ValueError(f\"Input processing failed: {str(e)}\")\n",
    "    \n",
    "    def predict(self, input_features):\n",
    "        \"\"\"Make a prediction with confidence score\"\"\"\n",
    "        try:\n",
    "            # Preprocess\n",
    "            X = self.preprocess_input(input_features)\n",
    "            X_scaled = self.scaler.transform(X)\n",
    "            X_scaled = X_scaled.reshape(1, 13, 1)  # Reshape for CNN\n",
    "            \n",
    "            # Predict\n",
    "            probability = float(self.model.predict(X_scaled)[0][0])\n",
    "            prediction = int(probability > 0.5)\n",
    "            confidence = abs(probability - 0.5) * 2  # 0-1 range\n",
    "            \n",
    "            return {\n",
    "                'probability': probability,\n",
    "                'prediction': prediction,\n",
    "                'confidence': confidence,\n",
    "                'interpretation': 'Positive for heart disease' if prediction == 1 \n",
    "                                 else 'Negative for heart disease'\n",
    "            }\n",
    "        except Exception as e:\n",
    "            raise RuntimeError(f\"Prediction failed: {str(e)}\")\n",
    "\n",
    "# Example Usage in Production\n",
    "if __name__ == \"__main__\":\n",
    "    # Initialize predictor\n",
    "    try:\n",
    "        predictor = HeartDiseasePredictor()\n",
    "        print(\"✅ Predictor initialized successfully\")\n",
    "    except Exception as e:\n",
    "        print(f\"❌ Initialization failed: {e}\")\n",
    "        exit()\n",
    "\n",
    "    # Sample input (would come from your API/UI in production)\n",
    "    patient_data = {\n",
    "        'age': 52,\n",
    "        'sex': 1,\n",
    "        'chest_pain_type': 2,\n",
    "        'resting_blood_pressure': 128,\n",
    "        'cholesterol': 205,\n",
    "        'fasting_blood_sugar': 0,\n",
    "        'resting_electrocardiogram': 1,\n",
    "        'max_heart_rate_achieved': 184,\n",
    "        'exercise_induced_angina': 0,\n",
    "        'st_depression': 0.0,\n",
    "        'st_slope': 2,\n",
    "        'num_major_vessels': 0,\n",
    "        'thalassemia': 2\n",
    "    }\n",
    "\n",
    "    # Make prediction\n",
    "    try:\n",
    "        result = predictor.predict(patient_data)\n",
    "        print(\"\\n🔍 Prediction Results:\")\n",
    "        print(f\"- Probability: {result['probability']:.4f}\")\n",
    "        print(f\"- Prediction: {result['interpretation']}\")\n",
    "        print(f\"- Confidence: {result['confidence']:.1%}\")\n",
    "        \n",
    "        # Clinical decision logic\n",
    "        if result['prediction'] == 1:\n",
    "            print(\"\\n🚨 Clinical Alert: Consider further cardiac evaluation\")\n",
    "        else:\n",
    "            if result['probability'] < 0.2:\n",
    "                print(\"\\n✅ Low Risk: Routine follow-up recommended\")\n",
    "            else:\n",
    "                print(\"\\n⚠️ Moderate Risk: Consider lifestyle counseling\")\n",
    "                \n",
    "    except Exception as e:\n",
    "        print(f\"❌ Prediction error: {e}\")"
   ]
  },
  {
   "cell_type": "code",
   "execution_count": null,
   "id": "e2dce663-5240-4a29-9695-f566424ea238",
   "metadata": {},
   "outputs": [],
   "source": []
  }
 ],
 "metadata": {
  "kernelspec": {
   "display_name": "Python 3 (ipykernel)",
   "language": "python",
   "name": "python3"
  },
  "language_info": {
   "codemirror_mode": {
    "name": "ipython",
    "version": 3
   },
   "file_extension": ".py",
   "mimetype": "text/x-python",
   "name": "python",
   "nbconvert_exporter": "python",
   "pygments_lexer": "ipython3",
   "version": "3.11.0rc2"
  }
 },
 "nbformat": 4,
 "nbformat_minor": 5
}
