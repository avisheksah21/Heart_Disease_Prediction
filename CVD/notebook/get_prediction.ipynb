{
 "cells": [
  {
   "cell_type": "markdown",
   "id": "544ea01c-88fb-4314-a0ff-53fdec0ca12f",
   "metadata": {},
   "source": [
    "# Load models and get predictions"
   ]
  },
  {
   "cell_type": "code",
   "execution_count": 7,
   "id": "3d07edb6-d193-4ba4-8f5a-bdd36901a25a",
   "metadata": {},
   "outputs": [],
   "source": [
    "import joblib\n",
    "import pandas as pd"
   ]
  },
  {
   "cell_type": "code",
   "execution_count": 8,
   "id": "4f5f1d15-5a07-4321-9387-71aee38ab459",
   "metadata": {},
   "outputs": [],
   "source": [
    "# lgbmclassifier model \n",
    "loaded_model = joblib.load('models/lgbm_model.pkl')"
   ]
  },
  {
   "cell_type": "code",
   "execution_count": 1,
   "id": "2ccc7aec-39f6-4909-b551-44c84e81da33",
   "metadata": {},
   "outputs": [],
   "source": [
    "sample_input = {\n",
    "    'age': 55,\n",
    "    'sex': 1,\n",
    "    'chest_pain_type': 2,\n",
    "    'resting_blood_pressure': 130,\n",
    "    'cholesterol': 250,\n",
    "    'fasting_blood_sugar': 0,\n",
    "    'resting_electrocardiogram': 1,\n",
    "    'max_heart_rate_achieved': 150,\n",
    "    'exercise_induced_angina': 0,\n",
    "    'st_depression': 1.0,\n",
    "    'st_slope': 2,\n",
    "    'num_major_vessels': 1,\n",
    "    'thalassemia': 3\n",
    "}"
   ]
  },
  {
   "cell_type": "code",
   "execution_count": 9,
   "id": "c593ad6f-057d-495a-968d-6cde35923316",
   "metadata": {},
   "outputs": [],
   "source": [
    "# Define the expected feature names (must match X_train from training)\n",
    "expected_features = [\n",
    "    'age', 'sex', 'chest_pain_type', 'resting_blood_pressure', 'cholesterol',\n",
    "    'fasting_blood_sugar', 'resting_electrocardiogram', 'max_heart_rate_achieved',\n",
    "    'exercise_induced_angina', 'st_depression', 'st_slope', 'num_major_vessels', 'thalassemia'\n",
    "]"
   ]
  },
  {
   "cell_type": "code",
   "execution_count": 10,
   "id": "79e14e7e-1882-4443-8aed-cf5dff09d213",
   "metadata": {},
   "outputs": [],
   "source": [
    "# Create a sample input for prediction\n",
    "sample_input = {\n",
    "    'age': 45,\n",
    "    'sex': 1,\n",
    "    'chest_pain_type': 1,\n",
    "    'resting_blood_pressure': 130,\n",
    "    'cholesterol': 150,\n",
    "    'fasting_blood_sugar': 0,\n",
    "    'resting_electrocardiogram': 1,\n",
    "    'max_heart_rate_achieved': 50,\n",
    "    'exercise_induced_angina': 0,\n",
    "    'st_depression': 1.0,\n",
    "    'st_slope': 2,\n",
    "    'num_major_vessels': 1,\n",
    "    'thalassemia': 3\n",
    "}"
   ]
  },
  {
   "cell_type": "code",
   "execution_count": 11,
   "id": "7da5c108-82ef-4403-930d-e930ed352d1f",
   "metadata": {},
   "outputs": [],
   "source": [
    "# Convert sample input to DataFrame with correct feature names\n",
    "sample_df = pd.DataFrame([sample_input], columns=expected_features)"
   ]
  },
  {
   "cell_type": "code",
   "execution_count": 12,
   "id": "7e0578e3-ba02-40c9-993a-c2d7d8903375",
   "metadata": {},
   "outputs": [],
   "source": [
    "prediction = loaded_model.predict(sample_df)"
   ]
  },
  {
   "cell_type": "code",
   "execution_count": 13,
   "id": "8f2b0a92-d23b-46f5-943c-0cfac1674118",
   "metadata": {},
   "outputs": [],
   "source": [
    "prediction_proba = loaded_model.predict_proba(sample_df)"
   ]
  },
  {
   "cell_type": "code",
   "execution_count": 14,
   "id": "36127fa8-75fa-4c0b-9e0b-3c21b7b41624",
   "metadata": {},
   "outputs": [
    {
     "name": "stdout",
     "output_type": "stream",
     "text": [
      "Prediction: No Disease\n",
      "Prediction Probability: [0.76924718 0.23075282]\n"
     ]
    }
   ],
   "source": [
    "print(f\"Prediction: {'Disease' if prediction[0] == 1 else 'No Disease'}\")\n",
    "print(f\"Prediction Probability: {prediction_proba[0]}\")"
   ]
  },
  {
   "cell_type": "markdown",
   "id": "2d3ca076-70e5-452a-a46d-87cc27b35000",
   "metadata": {},
   "source": [
    "Tuned cnn"
   ]
  },
  {
   "cell_type": "code",
   "execution_count": 2,
   "id": "cb7eb396-c148-43b5-bd3b-985f6acc7186",
   "metadata": {},
   "outputs": [],
   "source": [
    "import tensorflow as tf\n",
    "import numpy as np\n",
    "import os"
   ]
  },
  {
   "cell_type": "code",
   "execution_count": 5,
   "id": "45679c5f-37f4-4c93-adf6-59f807abf7fb",
   "metadata": {},
   "outputs": [],
   "source": [
    "# Define the path to the saved model\n",
    "model_dir = 'models'  # Update if the model is saved elsewhere\n",
    "model_path = os.path.join(model_dir, 'kaggle_best_cnn_tuned_model.keras')  # Use .keras, .h5, or savedmodel"
   ]
  },
  {
   "cell_type": "code",
   "execution_count": 6,
   "id": "01a475f7-2bc9-4e65-b9d3-73b8c1ed4a8d",
   "metadata": {},
   "outputs": [
    {
     "name": "stdout",
     "output_type": "stream",
     "text": [
      "Model loaded successfully.\n"
     ]
    },
    {
     "name": "stderr",
     "output_type": "stream",
     "text": [
      "C:\\Users\\avish\\AppData\\Local\\Programs\\Python\\Python311\\Lib\\site-packages\\keras\\src\\saving\\saving_lib.py:757: UserWarning: Skipping variable loading for optimizer 'rmsprop', because it has 10 variables whereas the saved optimizer has 2 variables. \n",
      "  saveable.load_own_variables(weights_store.get(inner_path))\n"
     ]
    },
    {
     "data": {
      "text/html": [
       "<pre style=\"white-space:pre;overflow-x:auto;line-height:normal;font-family:Menlo,'DejaVu Sans Mono',consolas,'Courier New',monospace\"><span style=\"font-weight: bold\">Model: \"sequential\"</span>\n",
       "</pre>\n"
      ],
      "text/plain": [
       "\u001b[1mModel: \"sequential\"\u001b[0m\n"
      ]
     },
     "metadata": {},
     "output_type": "display_data"
    },
    {
     "data": {
      "text/html": [
       "<pre style=\"white-space:pre;overflow-x:auto;line-height:normal;font-family:Menlo,'DejaVu Sans Mono',consolas,'Courier New',monospace\">┏━━━━━━━━━━━━━━━━━━━━━━━━━━━━━━━━━━━━━━┳━━━━━━━━━━━━━━━━━━━━━━━━━━━━━┳━━━━━━━━━━━━━━━━━┓\n",
       "┃<span style=\"font-weight: bold\"> Layer (type)                         </span>┃<span style=\"font-weight: bold\"> Output Shape                </span>┃<span style=\"font-weight: bold\">         Param # </span>┃\n",
       "┡━━━━━━━━━━━━━━━━━━━━━━━━━━━━━━━━━━━━━━╇━━━━━━━━━━━━━━━━━━━━━━━━━━━━━╇━━━━━━━━━━━━━━━━━┩\n",
       "│ conv1d (<span style=\"color: #0087ff; text-decoration-color: #0087ff\">Conv1D</span>)                      │ (<span style=\"color: #00d7ff; text-decoration-color: #00d7ff\">None</span>, <span style=\"color: #00af00; text-decoration-color: #00af00\">13</span>, <span style=\"color: #00af00; text-decoration-color: #00af00\">48</span>)              │             <span style=\"color: #00af00; text-decoration-color: #00af00\">192</span> │\n",
       "├──────────────────────────────────────┼─────────────────────────────┼─────────────────┤\n",
       "│ max_pooling1d (<span style=\"color: #0087ff; text-decoration-color: #0087ff\">MaxPooling1D</span>)         │ (<span style=\"color: #00d7ff; text-decoration-color: #00d7ff\">None</span>, <span style=\"color: #00af00; text-decoration-color: #00af00\">6</span>, <span style=\"color: #00af00; text-decoration-color: #00af00\">48</span>)               │               <span style=\"color: #00af00; text-decoration-color: #00af00\">0</span> │\n",
       "├──────────────────────────────────────┼─────────────────────────────┼─────────────────┤\n",
       "│ conv1d_1 (<span style=\"color: #0087ff; text-decoration-color: #0087ff\">Conv1D</span>)                    │ (<span style=\"color: #00d7ff; text-decoration-color: #00d7ff\">None</span>, <span style=\"color: #00af00; text-decoration-color: #00af00\">6</span>, <span style=\"color: #00af00; text-decoration-color: #00af00\">96</span>)               │          <span style=\"color: #00af00; text-decoration-color: #00af00\">13,920</span> │\n",
       "├──────────────────────────────────────┼─────────────────────────────┼─────────────────┤\n",
       "│ max_pooling1d_1 (<span style=\"color: #0087ff; text-decoration-color: #0087ff\">MaxPooling1D</span>)       │ (<span style=\"color: #00d7ff; text-decoration-color: #00d7ff\">None</span>, <span style=\"color: #00af00; text-decoration-color: #00af00\">3</span>, <span style=\"color: #00af00; text-decoration-color: #00af00\">96</span>)               │               <span style=\"color: #00af00; text-decoration-color: #00af00\">0</span> │\n",
       "├──────────────────────────────────────┼─────────────────────────────┼─────────────────┤\n",
       "│ dropout (<span style=\"color: #0087ff; text-decoration-color: #0087ff\">Dropout</span>)                    │ (<span style=\"color: #00d7ff; text-decoration-color: #00d7ff\">None</span>, <span style=\"color: #00af00; text-decoration-color: #00af00\">3</span>, <span style=\"color: #00af00; text-decoration-color: #00af00\">96</span>)               │               <span style=\"color: #00af00; text-decoration-color: #00af00\">0</span> │\n",
       "├──────────────────────────────────────┼─────────────────────────────┼─────────────────┤\n",
       "│ flatten (<span style=\"color: #0087ff; text-decoration-color: #0087ff\">Flatten</span>)                    │ (<span style=\"color: #00d7ff; text-decoration-color: #00d7ff\">None</span>, <span style=\"color: #00af00; text-decoration-color: #00af00\">288</span>)                 │               <span style=\"color: #00af00; text-decoration-color: #00af00\">0</span> │\n",
       "├──────────────────────────────────────┼─────────────────────────────┼─────────────────┤\n",
       "│ dense (<span style=\"color: #0087ff; text-decoration-color: #0087ff\">Dense</span>)                        │ (<span style=\"color: #00d7ff; text-decoration-color: #00d7ff\">None</span>, <span style=\"color: #00af00; text-decoration-color: #00af00\">128</span>)                 │          <span style=\"color: #00af00; text-decoration-color: #00af00\">36,992</span> │\n",
       "├──────────────────────────────────────┼─────────────────────────────┼─────────────────┤\n",
       "│ dropout_1 (<span style=\"color: #0087ff; text-decoration-color: #0087ff\">Dropout</span>)                  │ (<span style=\"color: #00d7ff; text-decoration-color: #00d7ff\">None</span>, <span style=\"color: #00af00; text-decoration-color: #00af00\">128</span>)                 │               <span style=\"color: #00af00; text-decoration-color: #00af00\">0</span> │\n",
       "├──────────────────────────────────────┼─────────────────────────────┼─────────────────┤\n",
       "│ dense_1 (<span style=\"color: #0087ff; text-decoration-color: #0087ff\">Dense</span>)                      │ (<span style=\"color: #00d7ff; text-decoration-color: #00d7ff\">None</span>, <span style=\"color: #00af00; text-decoration-color: #00af00\">1</span>)                   │             <span style=\"color: #00af00; text-decoration-color: #00af00\">129</span> │\n",
       "└──────────────────────────────────────┴─────────────────────────────┴─────────────────┘\n",
       "</pre>\n"
      ],
      "text/plain": [
       "┏━━━━━━━━━━━━━━━━━━━━━━━━━━━━━━━━━━━━━━┳━━━━━━━━━━━━━━━━━━━━━━━━━━━━━┳━━━━━━━━━━━━━━━━━┓\n",
       "┃\u001b[1m \u001b[0m\u001b[1mLayer (type)                        \u001b[0m\u001b[1m \u001b[0m┃\u001b[1m \u001b[0m\u001b[1mOutput Shape               \u001b[0m\u001b[1m \u001b[0m┃\u001b[1m \u001b[0m\u001b[1m        Param #\u001b[0m\u001b[1m \u001b[0m┃\n",
       "┡━━━━━━━━━━━━━━━━━━━━━━━━━━━━━━━━━━━━━━╇━━━━━━━━━━━━━━━━━━━━━━━━━━━━━╇━━━━━━━━━━━━━━━━━┩\n",
       "│ conv1d (\u001b[38;5;33mConv1D\u001b[0m)                      │ (\u001b[38;5;45mNone\u001b[0m, \u001b[38;5;34m13\u001b[0m, \u001b[38;5;34m48\u001b[0m)              │             \u001b[38;5;34m192\u001b[0m │\n",
       "├──────────────────────────────────────┼─────────────────────────────┼─────────────────┤\n",
       "│ max_pooling1d (\u001b[38;5;33mMaxPooling1D\u001b[0m)         │ (\u001b[38;5;45mNone\u001b[0m, \u001b[38;5;34m6\u001b[0m, \u001b[38;5;34m48\u001b[0m)               │               \u001b[38;5;34m0\u001b[0m │\n",
       "├──────────────────────────────────────┼─────────────────────────────┼─────────────────┤\n",
       "│ conv1d_1 (\u001b[38;5;33mConv1D\u001b[0m)                    │ (\u001b[38;5;45mNone\u001b[0m, \u001b[38;5;34m6\u001b[0m, \u001b[38;5;34m96\u001b[0m)               │          \u001b[38;5;34m13,920\u001b[0m │\n",
       "├──────────────────────────────────────┼─────────────────────────────┼─────────────────┤\n",
       "│ max_pooling1d_1 (\u001b[38;5;33mMaxPooling1D\u001b[0m)       │ (\u001b[38;5;45mNone\u001b[0m, \u001b[38;5;34m3\u001b[0m, \u001b[38;5;34m96\u001b[0m)               │               \u001b[38;5;34m0\u001b[0m │\n",
       "├──────────────────────────────────────┼─────────────────────────────┼─────────────────┤\n",
       "│ dropout (\u001b[38;5;33mDropout\u001b[0m)                    │ (\u001b[38;5;45mNone\u001b[0m, \u001b[38;5;34m3\u001b[0m, \u001b[38;5;34m96\u001b[0m)               │               \u001b[38;5;34m0\u001b[0m │\n",
       "├──────────────────────────────────────┼─────────────────────────────┼─────────────────┤\n",
       "│ flatten (\u001b[38;5;33mFlatten\u001b[0m)                    │ (\u001b[38;5;45mNone\u001b[0m, \u001b[38;5;34m288\u001b[0m)                 │               \u001b[38;5;34m0\u001b[0m │\n",
       "├──────────────────────────────────────┼─────────────────────────────┼─────────────────┤\n",
       "│ dense (\u001b[38;5;33mDense\u001b[0m)                        │ (\u001b[38;5;45mNone\u001b[0m, \u001b[38;5;34m128\u001b[0m)                 │          \u001b[38;5;34m36,992\u001b[0m │\n",
       "├──────────────────────────────────────┼─────────────────────────────┼─────────────────┤\n",
       "│ dropout_1 (\u001b[38;5;33mDropout\u001b[0m)                  │ (\u001b[38;5;45mNone\u001b[0m, \u001b[38;5;34m128\u001b[0m)                 │               \u001b[38;5;34m0\u001b[0m │\n",
       "├──────────────────────────────────────┼─────────────────────────────┼─────────────────┤\n",
       "│ dense_1 (\u001b[38;5;33mDense\u001b[0m)                      │ (\u001b[38;5;45mNone\u001b[0m, \u001b[38;5;34m1\u001b[0m)                   │             \u001b[38;5;34m129\u001b[0m │\n",
       "└──────────────────────────────────────┴─────────────────────────────┴─────────────────┘\n"
      ]
     },
     "metadata": {},
     "output_type": "display_data"
    },
    {
     "data": {
      "text/html": [
       "<pre style=\"white-space:pre;overflow-x:auto;line-height:normal;font-family:Menlo,'DejaVu Sans Mono',consolas,'Courier New',monospace\"><span style=\"font-weight: bold\"> Total params: </span><span style=\"color: #00af00; text-decoration-color: #00af00\">102,468</span> (400.27 KB)\n",
       "</pre>\n"
      ],
      "text/plain": [
       "\u001b[1m Total params: \u001b[0m\u001b[38;5;34m102,468\u001b[0m (400.27 KB)\n"
      ]
     },
     "metadata": {},
     "output_type": "display_data"
    },
    {
     "data": {
      "text/html": [
       "<pre style=\"white-space:pre;overflow-x:auto;line-height:normal;font-family:Menlo,'DejaVu Sans Mono',consolas,'Courier New',monospace\"><span style=\"font-weight: bold\"> Trainable params: </span><span style=\"color: #00af00; text-decoration-color: #00af00\">51,233</span> (200.13 KB)\n",
       "</pre>\n"
      ],
      "text/plain": [
       "\u001b[1m Trainable params: \u001b[0m\u001b[38;5;34m51,233\u001b[0m (200.13 KB)\n"
      ]
     },
     "metadata": {},
     "output_type": "display_data"
    },
    {
     "data": {
      "text/html": [
       "<pre style=\"white-space:pre;overflow-x:auto;line-height:normal;font-family:Menlo,'DejaVu Sans Mono',consolas,'Courier New',monospace\"><span style=\"font-weight: bold\"> Non-trainable params: </span><span style=\"color: #00af00; text-decoration-color: #00af00\">0</span> (0.00 B)\n",
       "</pre>\n"
      ],
      "text/plain": [
       "\u001b[1m Non-trainable params: \u001b[0m\u001b[38;5;34m0\u001b[0m (0.00 B)\n"
      ]
     },
     "metadata": {},
     "output_type": "display_data"
    },
    {
     "data": {
      "text/html": [
       "<pre style=\"white-space:pre;overflow-x:auto;line-height:normal;font-family:Menlo,'DejaVu Sans Mono',consolas,'Courier New',monospace\"><span style=\"font-weight: bold\"> Optimizer params: </span><span style=\"color: #00af00; text-decoration-color: #00af00\">51,235</span> (200.14 KB)\n",
       "</pre>\n"
      ],
      "text/plain": [
       "\u001b[1m Optimizer params: \u001b[0m\u001b[38;5;34m51,235\u001b[0m (200.14 KB)\n"
      ]
     },
     "metadata": {},
     "output_type": "display_data"
    },
    {
     "name": "stdout",
     "output_type": "stream",
     "text": [
      "\u001b[1m1/1\u001b[0m \u001b[32m━━━━━━━━━━━━━━━━━━━━\u001b[0m\u001b[37m\u001b[0m \u001b[1m1s\u001b[0m 586ms/step\n",
      "\n",
      "Sample Input: {'age': 55, 'sex': 1, 'chest_pain_type': 2, 'resting_blood_pressure': 130, 'cholesterol': 250, 'fasting_blood_sugar': 0, 'resting_electrocardiogram': 1, 'max_heart_rate_achieved': 150, 'exercise_induced_angina': 0, 'st_depression': 1.0, 'st_slope': 2, 'num_major_vessels': 1, 'thalassemia': 3}\n",
      "Preprocessed Input: [ 0.11111111  0.6        -0.3        -0.05714286  0.07722008 -0.41666667\n",
      "  0.83333333  0.         -0.70212766  0.          0.66666667  0.33333333\n",
      "  1.16666667]\n",
      "Predicted Probability: 0.2259\n",
      "Predicted Class: 0 (No Heart Disease)\n"
     ]
    }
   ],
   "source": [
    "\n",
    "# Load the model\n",
    "try:\n",
    "    model = tf.keras.models.load_model(model_path)\n",
    "    print(\"Model loaded successfully.\")\n",
    "    model.summary()  # Print model architecture for verification\n",
    "except Exception as e:\n",
    "    raise RuntimeError(f\"Failed to load model: {e}\")\n",
    "\n",
    "# Convert sample input to array in the correct order\n",
    "feature_order = [\n",
    "    'age', 'sex', 'chest_pain_type', 'resting_blood_pressure', 'cholesterol',\n",
    "    'fasting_blood_sugar', 'resting_electrocardiogram', 'max_heart_rate_achieved',\n",
    "    'exercise_induced_angina', 'st_depression', 'st_slope', 'num_major_vessels',\n",
    "    'thalassemia'\n",
    "]\n",
    "input_array = np.array([sample_input[feature] for feature in feature_order], dtype=np.float32)\n",
    "\n",
    "# Apply preprocessing (standardization)\n",
    "# Placeholder: Typical mean and std for heart disease dataset (replace with your training data's values)\n",
    "feature_means = np.array([54.0, 0.7, 2.3, 131.0, 246.0, 0.15, 0.5, 150.0, 0.33, 1.0, 1.6, 0.7, 2.3])\n",
    "feature_stds = np.array([9.0, 0.5, 1.0, 17.5, 51.8, 0.36, 0.6, 23.0, 0.47, 1.2, 0.6, 0.9, 0.6])\n",
    "input_array = (input_array - feature_means) / feature_stds\n",
    "\n",
    "# Reshape for model input: (1, 13, 1)\n",
    "input_array = input_array.reshape(1, 13, 1)\n",
    "\n",
    "# Alternative: If you have a fitted scaler from training\n",
    "\"\"\"\n",
    "from joblib import load\n",
    "scaler = load('path/to/scaler.joblib')  # Load your trained scaler\n",
    "input_array = scaler.transform(input_array.reshape(1, -1)).reshape(1, 13, 1)\n",
    "\"\"\"\n",
    "\n",
    "# Make prediction\n",
    "try:\n",
    "    prediction = model.predict(input_array)\n",
    "except Exception as e:\n",
    "    raise RuntimeError(f\"Prediction failed: {e}\")\n",
    "\n",
    "# Interpret the prediction (sigmoid output: probability of class 1)\n",
    "probability = prediction[0][0]\n",
    "class_label = 1 if probability >= 0.5 else 0\n",
    "print(f\"\\nSample Input: {sample_input}\")\n",
    "print(f\"Preprocessed Input: {input_array.flatten()}\")\n",
    "print(f\"Predicted Probability: {probability:.4f}\")\n",
    "print(f\"Predicted Class: {class_label} ({'Heart Disease' if class_label == 1 else 'No Heart Disease'})\")"
   ]
  },
  {
   "cell_type": "code",
   "execution_count": null,
   "id": "316b3527-fb1d-46e8-8ec7-2f1b2dc59e99",
   "metadata": {},
   "outputs": [],
   "source": []
  }
 ],
 "metadata": {
  "kernelspec": {
   "display_name": "Python 3 (ipykernel)",
   "language": "python",
   "name": "python3"
  },
  "language_info": {
   "codemirror_mode": {
    "name": "ipython",
    "version": 3
   },
   "file_extension": ".py",
   "mimetype": "text/x-python",
   "name": "python",
   "nbconvert_exporter": "python",
   "pygments_lexer": "ipython3",
   "version": "3.11.0rc2"
  }
 },
 "nbformat": 4,
 "nbformat_minor": 5
}
