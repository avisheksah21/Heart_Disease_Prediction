{
 "cells": [
  {
   "cell_type": "markdown",
   "id": "544ea01c-88fb-4314-a0ff-53fdec0ca12f",
   "metadata": {},
   "source": [
    "# Load models and get predictions"
   ]
  },
  {
   "cell_type": "code",
   "execution_count": 6,
   "id": "3d07edb6-d193-4ba4-8f5a-bdd36901a25a",
   "metadata": {},
   "outputs": [],
   "source": [
    "import joblib\n",
    "import pandas as pd"
   ]
  },
  {
   "cell_type": "code",
   "execution_count": 3,
   "id": "4f5f1d15-5a07-4321-9387-71aee38ab459",
   "metadata": {},
   "outputs": [],
   "source": [
    "# lgbmclassifier model \n",
    "loaded_model = joblib.load('lgbm_heart_disease_model.pkl')"
   ]
  },
  {
   "cell_type": "code",
   "execution_count": 4,
   "id": "2ccc7aec-39f6-4909-b551-44c84e81da33",
   "metadata": {},
   "outputs": [],
   "source": [
    "sample_input = {\n",
    "    'age': 55,\n",
    "    'sex': 1,\n",
    "    'chest_pain_type': 2,\n",
    "    'resting_blood_pressure': 130,\n",
    "    'cholesterol': 250,\n",
    "    'fasting_blood_sugar': 0,\n",
    "    'resting_electrocardiogram': 1,\n",
    "    'max_heart_rate_achieved': 150,\n",
    "    'exercise_induced_angina': 0,\n",
    "    'st_depression': 1.0,\n",
    "    'st_slope': 2,\n",
    "    'num_major_vessels': 1,\n",
    "    'thalassemia': 3\n",
    "}"
   ]
  },
  {
   "cell_type": "code",
   "execution_count": 8,
   "id": "c593ad6f-057d-495a-968d-6cde35923316",
   "metadata": {},
   "outputs": [],
   "source": [
    "# Define the expected feature names (must match X_train from training)\n",
    "expected_features = [\n",
    "    'age', 'sex', 'chest_pain_type', 'resting_blood_pressure', 'cholesterol',\n",
    "    'fasting_blood_sugar', 'resting_electrocardiogram', 'max_heart_rate_achieved',\n",
    "    'exercise_induced_angina', 'st_depression', 'st_slope', 'num_major_vessels', 'thalassemia'\n",
    "]"
   ]
  },
  {
   "cell_type": "code",
   "execution_count": 16,
   "id": "79e14e7e-1882-4443-8aed-cf5dff09d213",
   "metadata": {},
   "outputs": [],
   "source": [
    "# Create a sample input for prediction\n",
    "sample_input = {\n",
    "    'age': 45,\n",
    "    'sex': 1,\n",
    "    'chest_pain_type': 1,\n",
    "    'resting_blood_pressure': 130,\n",
    "    'cholesterol': 150,\n",
    "    'fasting_blood_sugar': 0,\n",
    "    'resting_electrocardiogram': 1,\n",
    "    'max_heart_rate_achieved': 50,\n",
    "    'exercise_induced_angina': 0,\n",
    "    'st_depression': 1.0,\n",
    "    'st_slope': 2,\n",
    "    'num_major_vessels': 1,\n",
    "    'thalassemia': 3\n",
    "}"
   ]
  },
  {
   "cell_type": "code",
   "execution_count": 17,
   "id": "7da5c108-82ef-4403-930d-e930ed352d1f",
   "metadata": {},
   "outputs": [],
   "source": [
    "# Convert sample input to DataFrame with correct feature names\n",
    "sample_df = pd.DataFrame([sample_input], columns=expected_features)"
   ]
  },
  {
   "cell_type": "code",
   "execution_count": 18,
   "id": "7e0578e3-ba02-40c9-993a-c2d7d8903375",
   "metadata": {},
   "outputs": [],
   "source": [
    "prediction = loaded_model.predict(sample_df)"
   ]
  },
  {
   "cell_type": "code",
   "execution_count": 19,
   "id": "8f2b0a92-d23b-46f5-943c-0cfac1674118",
   "metadata": {},
   "outputs": [],
   "source": [
    "prediction_proba = loaded_model.predict_proba(sample_df)"
   ]
  },
  {
   "cell_type": "code",
   "execution_count": 20,
   "id": "36127fa8-75fa-4c0b-9e0b-3c21b7b41624",
   "metadata": {},
   "outputs": [
    {
     "name": "stdout",
     "output_type": "stream",
     "text": [
      "Prediction: No Disease\n",
      "Prediction Probability: [0.76924718 0.23075282]\n"
     ]
    }
   ],
   "source": [
    "print(f\"Prediction: {'Disease' if prediction[0] == 1 else 'No Disease'}\")\n",
    "print(f\"Prediction Probability: {prediction_proba[0]}\")"
   ]
  },
  {
   "cell_type": "code",
   "execution_count": null,
   "id": "51d9a1df-ede5-41fd-95a8-b7e2e3e75bc2",
   "metadata": {},
   "outputs": [],
   "source": []
  }
 ],
 "metadata": {
  "kernelspec": {
   "display_name": "Python 3 (ipykernel)",
   "language": "python",
   "name": "python3"
  },
  "language_info": {
   "codemirror_mode": {
    "name": "ipython",
    "version": 3
   },
   "file_extension": ".py",
   "mimetype": "text/x-python",
   "name": "python",
   "nbconvert_exporter": "python",
   "pygments_lexer": "ipython3",
   "version": "3.11.0rc2"
  }
 },
 "nbformat": 4,
 "nbformat_minor": 5
}
