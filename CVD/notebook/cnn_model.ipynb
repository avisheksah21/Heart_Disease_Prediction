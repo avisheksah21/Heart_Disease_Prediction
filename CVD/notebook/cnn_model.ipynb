{
 "cells": [
  {
   "cell_type": "code",
   "execution_count": 1,
   "id": "bc99e979-c5eb-4a45-a14a-e713c26bda16",
   "metadata": {},
   "outputs": [],
   "source": [
    "import pandas as pd\n",
    "import numpy as np\n",
    "from sklearn.model_selection import train_test_split\n",
    "from sklearn.preprocessing import StandardScaler\n",
    "from imblearn.over_sampling import SMOTE\n",
    "import tensorflow as tf\n",
    "from tensorflow.keras.models import Sequential, Model\n",
    "from tensorflow.keras.layers import Conv1D, MaxPooling1D, Flatten, Dense, Dropout, Input, LayerNormalization\n",
    "from tensorflow.keras.callbacks import EarlyStopping\n",
    "from sklearn.metrics import accuracy_score, classification_report, confusion_matrix, roc_curve, auc\n",
    "from sklearn.linear_model import LogisticRegression\n",
    "from sklearn.tree import DecisionTreeClassifier\n",
    "from sklearn.ensemble import RandomForestClassifier\n",
    "from xgboost import XGBClassifier\n",
    "import matplotlib.pyplot as plt\n",
    "import seaborn as sns\n",
    "%matplotlib inline"
   ]
  },
  {
   "cell_type": "code",
   "execution_count": 2,
   "id": "26b1c8a1-31ff-4d2b-bb31-930458e5fdb8",
   "metadata": {},
   "outputs": [],
   "source": [
    "#dataset loading\n",
    "df = pd.read_csv(\"C:/Users/avish/Desktop/Sem 8/Final Project/Heart_Disease_Prediction/CVD/data/heart.csv\")"
   ]
  },
  {
   "cell_type": "code",
   "execution_count": 3,
   "id": "1f83a4f3-e37a-4649-81da-b9065bd84e54",
   "metadata": {},
   "outputs": [],
   "source": [
    "# Rename columns (from your previous code)\n",
    "df = df.rename(\n",
    "    columns={\n",
    "        'cp': 'chest_pain_type',\n",
    "        'trestbps': 'resting_blood_pressure',\n",
    "        'chol': 'cholesterol',\n",
    "        'fbs': 'fasting_blood_sugar',\n",
    "        'restecg': 'resting_electrocardiogram',\n",
    "        'thalach': 'max_heart_rate_achieved',\n",
    "        'exang': 'exercise_induced_angina',\n",
    "        'oldpeak': 'st_depression',\n",
    "        'slope': 'st_slope',\n",
    "        'ca': 'num_major_vessels',\n",
    "        'thal': 'thalassemia'\n",
    "    }\n",
    ")"
   ]
  },
  {
   "cell_type": "code",
   "execution_count": 4,
   "id": "87c0c9a9-5143-4414-86c2-186f4cf00885",
   "metadata": {},
   "outputs": [
    {
     "name": "stdout",
     "output_type": "stream",
     "text": [
      "The length of the data row now is 1000 instead of 1025\n"
     ]
    }
   ],
   "source": [
    "# dropping the wrong ca vlaues and error values from thal\n",
    "df = df[df['num_major_vessels']<4]\n",
    "df = df[df['thalassemia']>0]\n",
    "print(f'The length of the data row now is {len(df)} instead of 1025')"
   ]
  },
  {
   "cell_type": "code",
   "execution_count": 5,
   "id": "2904aaf2-8738-489c-8ddb-6360136ed532",
   "metadata": {},
   "outputs": [
    {
     "name": "stdout",
     "output_type": "stream",
     "text": [
      "Class distribution before SMOTE: {1: 508, 0: 492}\n"
     ]
    }
   ],
   "source": [
    "# Define features and target\n",
    "X = df.iloc[:, :-1].values\n",
    "y = df.iloc[:, -1].values\n",
    "\n",
    "# Check class distribution before SMOTE\n",
    "print(\"Class distribution before SMOTE:\", pd.Series(y).value_counts().to_dict())"
   ]
  },
  {
   "cell_type": "code",
   "execution_count": 6,
   "id": "8335824d-cc7e-46db-ad3f-65de845157e3",
   "metadata": {},
   "outputs": [
    {
     "name": "stdout",
     "output_type": "stream",
     "text": [
      "Class distribution after SMOTE: {0: 508, 1: 508}\n"
     ]
    }
   ],
   "source": [
    "# Apply SMOTE to balance classes\n",
    "oversample = SMOTE(random_state=42)\n",
    "X, y = oversample.fit_resample(X, y)\n",
    "\n",
    "# Check class distribution after SMOTE\n",
    "print(\"Class distribution after SMOTE:\", pd.Series(y).value_counts().to_dict())"
   ]
  },
  {
   "cell_type": "code",
   "execution_count": 7,
   "id": "8ad237fb-9351-4dd9-882e-450ff9d32950",
   "metadata": {},
   "outputs": [],
   "source": [
    "# Split into train (80%), validation (10%), test (10%)\n",
    "X_train_full, X_test, y_train_full, y_test = train_test_split(X, y, test_size=0.1, random_state=42)\n",
    "X_train, X_val, y_train, y_val = train_test_split(X_train_full, y_train_full, test_size=0.1111, random_state=42)"
   ]
  },
  {
   "cell_type": "code",
   "execution_count": 8,
   "id": "5a1432ff-14c0-4f5b-ae55-fde8a21f12af",
   "metadata": {},
   "outputs": [],
   "source": [
    "# Scale features\n",
    "scaler = StandardScaler()\n",
    "X_train = scaler.fit_transform(X_train)\n",
    "X_val = scaler.transform(X_val)\n",
    "X_test = scaler.transform(X_test)"
   ]
  },
  {
   "cell_type": "code",
   "execution_count": 9,
   "id": "54119905-bff8-4b6c-a9ff-ecdbbf1f819c",
   "metadata": {},
   "outputs": [
    {
     "name": "stdout",
     "output_type": "stream",
     "text": [
      "X_train shape: (812, 13) X_train_dl shape: (812, 13, 1)\n",
      "X_val shape: (102, 13) X_val_dl shape: (102, 13, 1)\n",
      "X_test shape: (102, 13) X_test_dl shape: (102, 13, 1)\n",
      "y_train shape: (812,) y_val shape: (102,) y_test shape: (102,)\n"
     ]
    }
   ],
   "source": [
    "# Reshape for deep learning (CNN and Transformer expect 3D input: samples, features, 1)\n",
    "X_train_dl = X_train.reshape(X_train.shape[0], X_train.shape[1], 1)\n",
    "X_val_dl = X_val.reshape(X_val.shape[0], X_val.shape[1], 1)\n",
    "X_test_dl = X_test.reshape(X_test.shape[0], X_test.shape[1], 1)\n",
    "\n",
    "# Print shapes\n",
    "print(\"X_train shape:\", X_train.shape, \"X_train_dl shape:\", X_train_dl.shape)\n",
    "print(\"X_val shape:\", X_val.shape, \"X_val_dl shape:\", X_val_dl.shape)\n",
    "print(\"X_test shape:\", X_test.shape, \"X_test_dl shape:\", X_test_dl.shape)\n",
    "print(\"y_train shape:\", y_train.shape, \"y_val shape:\", y_val.shape, \"y_test shape:\", y_test.shape)"
   ]
  },
  {
   "cell_type": "code",
   "execution_count": 11,
   "id": "2fbc3443-eec0-420a-8557-c6de4fe6a1c5",
   "metadata": {},
   "outputs": [],
   "source": [
    "# Define CNN model\n",
    "cnn_model = Sequential([\n",
    "    Conv1D(32, kernel_size=3, activation='relu', padding='same', input_shape=(13, 1)),\n",
    "    MaxPooling1D(pool_size=2),\n",
    "    Conv1D(64, kernel_size=3, activation='relu', padding='same'),\n",
    "    MaxPooling1D(pool_size=2),\n",
    "    Dropout(0.4),\n",
    "    Flatten(),\n",
    "    Dense(64, activation='relu'),\n",
    "    Dropout(0.3),\n",
    "    Dense(1, activation='sigmoid')\n",
    "])\n",
    "\n",
    "# Compile model\n",
    "cnn_model.compile(optimizer='adam', loss='binary_crossentropy', metrics=['accuracy'])\n",
    "\n",
    "# Early stopping\n",
    "early_stop = EarlyStopping(monitor='val_loss', patience=5, restore_best_weights=True)"
   ]
  },
  {
   "cell_type": "code",
   "execution_count": 12,
   "id": "1dea3f93-fde8-4a39-9bd7-8867523ead06",
   "metadata": {},
   "outputs": [
    {
     "name": "stdout",
     "output_type": "stream",
     "text": [
      "Epoch 1/50\n",
      "\u001b[1m26/26\u001b[0m \u001b[32m━━━━━━━━━━━━━━━━━━━━\u001b[0m\u001b[37m\u001b[0m \u001b[1m6s\u001b[0m 45ms/step - accuracy: 0.5977 - loss: 0.6687 - val_accuracy: 0.7745 - val_loss: 0.6065\n",
      "Epoch 2/50\n",
      "\u001b[1m26/26\u001b[0m \u001b[32m━━━━━━━━━━━━━━━━━━━━\u001b[0m\u001b[37m\u001b[0m \u001b[1m0s\u001b[0m 17ms/step - accuracy: 0.7144 - loss: 0.5762 - val_accuracy: 0.8235 - val_loss: 0.4979\n",
      "Epoch 3/50\n",
      "\u001b[1m26/26\u001b[0m \u001b[32m━━━━━━━━━━━━━━━━━━━━\u001b[0m\u001b[37m\u001b[0m \u001b[1m1s\u001b[0m 19ms/step - accuracy: 0.8170 - loss: 0.4357 - val_accuracy: 0.8431 - val_loss: 0.4327\n",
      "Epoch 4/50\n",
      "\u001b[1m26/26\u001b[0m \u001b[32m━━━━━━━━━━━━━━━━━━━━\u001b[0m\u001b[37m\u001b[0m \u001b[1m0s\u001b[0m 16ms/step - accuracy: 0.8468 - loss: 0.3733 - val_accuracy: 0.8235 - val_loss: 0.4587\n",
      "Epoch 5/50\n",
      "\u001b[1m26/26\u001b[0m \u001b[32m━━━━━━━━━━━━━━━━━━━━\u001b[0m\u001b[37m\u001b[0m \u001b[1m0s\u001b[0m 16ms/step - accuracy: 0.8463 - loss: 0.3626 - val_accuracy: 0.8235 - val_loss: 0.4302\n",
      "Epoch 6/50\n",
      "\u001b[1m26/26\u001b[0m \u001b[32m━━━━━━━━━━━━━━━━━━━━\u001b[0m\u001b[37m\u001b[0m \u001b[1m0s\u001b[0m 17ms/step - accuracy: 0.8355 - loss: 0.3740 - val_accuracy: 0.8235 - val_loss: 0.4128\n",
      "Epoch 7/50\n",
      "\u001b[1m26/26\u001b[0m \u001b[32m━━━━━━━━━━━━━━━━━━━━\u001b[0m\u001b[37m\u001b[0m \u001b[1m0s\u001b[0m 16ms/step - accuracy: 0.8772 - loss: 0.3069 - val_accuracy: 0.8235 - val_loss: 0.4103\n",
      "Epoch 8/50\n",
      "\u001b[1m26/26\u001b[0m \u001b[32m━━━━━━━━━━━━━━━━━━━━\u001b[0m\u001b[37m\u001b[0m \u001b[1m0s\u001b[0m 17ms/step - accuracy: 0.8733 - loss: 0.2902 - val_accuracy: 0.8235 - val_loss: 0.3946\n",
      "Epoch 9/50\n",
      "\u001b[1m26/26\u001b[0m \u001b[32m━━━━━━━━━━━━━━━━━━━━\u001b[0m\u001b[37m\u001b[0m \u001b[1m1s\u001b[0m 18ms/step - accuracy: 0.8639 - loss: 0.3228 - val_accuracy: 0.8529 - val_loss: 0.3898\n",
      "Epoch 10/50\n",
      "\u001b[1m26/26\u001b[0m \u001b[32m━━━━━━━━━━━━━━━━━━━━\u001b[0m\u001b[37m\u001b[0m \u001b[1m0s\u001b[0m 17ms/step - accuracy: 0.8904 - loss: 0.2918 - val_accuracy: 0.8922 - val_loss: 0.3757\n",
      "Epoch 11/50\n",
      "\u001b[1m26/26\u001b[0m \u001b[32m━━━━━━━━━━━━━━━━━━━━\u001b[0m\u001b[37m\u001b[0m \u001b[1m0s\u001b[0m 16ms/step - accuracy: 0.8768 - loss: 0.2957 - val_accuracy: 0.8922 - val_loss: 0.3653\n",
      "Epoch 12/50\n",
      "\u001b[1m26/26\u001b[0m \u001b[32m━━━━━━━━━━━━━━━━━━━━\u001b[0m\u001b[37m\u001b[0m \u001b[1m0s\u001b[0m 16ms/step - accuracy: 0.9146 - loss: 0.2484 - val_accuracy: 0.8333 - val_loss: 0.3662\n",
      "Epoch 13/50\n",
      "\u001b[1m26/26\u001b[0m \u001b[32m━━━━━━━━━━━━━━━━━━━━\u001b[0m\u001b[37m\u001b[0m \u001b[1m0s\u001b[0m 17ms/step - accuracy: 0.8964 - loss: 0.2705 - val_accuracy: 0.8333 - val_loss: 0.3710\n",
      "Epoch 14/50\n",
      "\u001b[1m26/26\u001b[0m \u001b[32m━━━━━━━━━━━━━━━━━━━━\u001b[0m\u001b[37m\u001b[0m \u001b[1m0s\u001b[0m 16ms/step - accuracy: 0.8859 - loss: 0.2580 - val_accuracy: 0.8431 - val_loss: 0.3488\n",
      "Epoch 15/50\n",
      "\u001b[1m26/26\u001b[0m \u001b[32m━━━━━━━━━━━━━━━━━━━━\u001b[0m\u001b[37m\u001b[0m \u001b[1m0s\u001b[0m 17ms/step - accuracy: 0.8997 - loss: 0.2725 - val_accuracy: 0.8333 - val_loss: 0.3587\n",
      "Epoch 16/50\n",
      "\u001b[1m26/26\u001b[0m \u001b[32m━━━━━━━━━━━━━━━━━━━━\u001b[0m\u001b[37m\u001b[0m \u001b[1m0s\u001b[0m 13ms/step - accuracy: 0.9092 - loss: 0.2193 - val_accuracy: 0.8725 - val_loss: 0.3309\n",
      "Epoch 17/50\n",
      "\u001b[1m26/26\u001b[0m \u001b[32m━━━━━━━━━━━━━━━━━━━━\u001b[0m\u001b[37m\u001b[0m \u001b[1m0s\u001b[0m 7ms/step - accuracy: 0.9201 - loss: 0.2305 - val_accuracy: 0.9118 - val_loss: 0.3208\n",
      "Epoch 18/50\n",
      "\u001b[1m26/26\u001b[0m \u001b[32m━━━━━━━━━━━━━━━━━━━━\u001b[0m\u001b[37m\u001b[0m \u001b[1m0s\u001b[0m 5ms/step - accuracy: 0.9182 - loss: 0.2205 - val_accuracy: 0.9118 - val_loss: 0.3120\n",
      "Epoch 19/50\n",
      "\u001b[1m26/26\u001b[0m \u001b[32m━━━━━━━━━━━━━━━━━━━━\u001b[0m\u001b[37m\u001b[0m \u001b[1m0s\u001b[0m 13ms/step - accuracy: 0.9022 - loss: 0.2370 - val_accuracy: 0.9118 - val_loss: 0.3120\n",
      "Epoch 20/50\n",
      "\u001b[1m26/26\u001b[0m \u001b[32m━━━━━━━━━━━━━━━━━━━━\u001b[0m\u001b[37m\u001b[0m \u001b[1m1s\u001b[0m 21ms/step - accuracy: 0.9303 - loss: 0.2031 - val_accuracy: 0.9118 - val_loss: 0.3136\n",
      "Epoch 21/50\n",
      "\u001b[1m26/26\u001b[0m \u001b[32m━━━━━━━━━━━━━━━━━━━━\u001b[0m\u001b[37m\u001b[0m \u001b[1m1s\u001b[0m 18ms/step - accuracy: 0.9271 - loss: 0.2127 - val_accuracy: 0.8725 - val_loss: 0.3262\n",
      "Epoch 22/50\n",
      "\u001b[1m26/26\u001b[0m \u001b[32m━━━━━━━━━━━━━━━━━━━━\u001b[0m\u001b[37m\u001b[0m \u001b[1m1s\u001b[0m 19ms/step - accuracy: 0.9341 - loss: 0.1746 - val_accuracy: 0.9216 - val_loss: 0.3071\n",
      "Epoch 23/50\n",
      "\u001b[1m26/26\u001b[0m \u001b[32m━━━━━━━━━━━━━━━━━━━━\u001b[0m\u001b[37m\u001b[0m \u001b[1m1s\u001b[0m 18ms/step - accuracy: 0.9281 - loss: 0.1965 - val_accuracy: 0.8824 - val_loss: 0.3240\n",
      "Epoch 24/50\n",
      "\u001b[1m26/26\u001b[0m \u001b[32m━━━━━━━━━━━━━━━━━━━━\u001b[0m\u001b[37m\u001b[0m \u001b[1m0s\u001b[0m 14ms/step - accuracy: 0.9350 - loss: 0.1779 - val_accuracy: 0.9118 - val_loss: 0.2835\n",
      "Epoch 25/50\n",
      "\u001b[1m26/26\u001b[0m \u001b[32m━━━━━━━━━━━━━━━━━━━━\u001b[0m\u001b[37m\u001b[0m \u001b[1m0s\u001b[0m 15ms/step - accuracy: 0.9384 - loss: 0.1632 - val_accuracy: 0.9118 - val_loss: 0.2837\n",
      "Epoch 26/50\n",
      "\u001b[1m26/26\u001b[0m \u001b[32m━━━━━━━━━━━━━━━━━━━━\u001b[0m\u001b[37m\u001b[0m \u001b[1m0s\u001b[0m 15ms/step - accuracy: 0.9417 - loss: 0.1583 - val_accuracy: 0.9118 - val_loss: 0.2694\n",
      "Epoch 27/50\n",
      "\u001b[1m26/26\u001b[0m \u001b[32m━━━━━━━━━━━━━━━━━━━━\u001b[0m\u001b[37m\u001b[0m \u001b[1m0s\u001b[0m 15ms/step - accuracy: 0.9227 - loss: 0.1909 - val_accuracy: 0.8824 - val_loss: 0.2756\n",
      "Epoch 28/50\n",
      "\u001b[1m26/26\u001b[0m \u001b[32m━━━━━━━━━━━━━━━━━━━━\u001b[0m\u001b[37m\u001b[0m \u001b[1m1s\u001b[0m 17ms/step - accuracy: 0.9666 - loss: 0.1321 - val_accuracy: 0.9020 - val_loss: 0.2843\n",
      "Epoch 29/50\n",
      "\u001b[1m26/26\u001b[0m \u001b[32m━━━━━━━━━━━━━━━━━━━━\u001b[0m\u001b[37m\u001b[0m \u001b[1m0s\u001b[0m 16ms/step - accuracy: 0.9331 - loss: 0.1626 - val_accuracy: 0.9216 - val_loss: 0.2631\n",
      "Epoch 30/50\n",
      "\u001b[1m26/26\u001b[0m \u001b[32m━━━━━━━━━━━━━━━━━━━━\u001b[0m\u001b[37m\u001b[0m \u001b[1m0s\u001b[0m 16ms/step - accuracy: 0.9267 - loss: 0.1689 - val_accuracy: 0.8922 - val_loss: 0.2675\n",
      "Epoch 31/50\n",
      "\u001b[1m26/26\u001b[0m \u001b[32m━━━━━━━━━━━━━━━━━━━━\u001b[0m\u001b[37m\u001b[0m \u001b[1m0s\u001b[0m 16ms/step - accuracy: 0.9550 - loss: 0.1405 - val_accuracy: 0.9118 - val_loss: 0.2405\n",
      "Epoch 32/50\n",
      "\u001b[1m26/26\u001b[0m \u001b[32m━━━━━━━━━━━━━━━━━━━━\u001b[0m\u001b[37m\u001b[0m \u001b[1m0s\u001b[0m 15ms/step - accuracy: 0.9567 - loss: 0.1287 - val_accuracy: 0.9216 - val_loss: 0.2281\n",
      "Epoch 33/50\n",
      "\u001b[1m26/26\u001b[0m \u001b[32m━━━━━━━━━━━━━━━━━━━━\u001b[0m\u001b[37m\u001b[0m \u001b[1m0s\u001b[0m 16ms/step - accuracy: 0.9478 - loss: 0.1430 - val_accuracy: 0.9216 - val_loss: 0.2338\n",
      "Epoch 34/50\n",
      "\u001b[1m26/26\u001b[0m \u001b[32m━━━━━━━━━━━━━━━━━━━━\u001b[0m\u001b[37m\u001b[0m \u001b[1m0s\u001b[0m 15ms/step - accuracy: 0.9606 - loss: 0.1261 - val_accuracy: 0.9118 - val_loss: 0.2343\n",
      "Epoch 35/50\n",
      "\u001b[1m26/26\u001b[0m \u001b[32m━━━━━━━━━━━━━━━━━━━━\u001b[0m\u001b[37m\u001b[0m \u001b[1m0s\u001b[0m 15ms/step - accuracy: 0.9628 - loss: 0.1098 - val_accuracy: 0.9118 - val_loss: 0.2394\n",
      "Epoch 36/50\n",
      "\u001b[1m26/26\u001b[0m \u001b[32m━━━━━━━━━━━━━━━━━━━━\u001b[0m\u001b[37m\u001b[0m \u001b[1m0s\u001b[0m 16ms/step - accuracy: 0.9425 - loss: 0.1430 - val_accuracy: 0.9216 - val_loss: 0.2202\n",
      "Epoch 37/50\n",
      "\u001b[1m26/26\u001b[0m \u001b[32m━━━━━━━━━━━━━━━━━━━━\u001b[0m\u001b[37m\u001b[0m \u001b[1m0s\u001b[0m 15ms/step - accuracy: 0.9386 - loss: 0.1544 - val_accuracy: 0.9314 - val_loss: 0.2240\n",
      "Epoch 38/50\n",
      "\u001b[1m26/26\u001b[0m \u001b[32m━━━━━━━━━━━━━━━━━━━━\u001b[0m\u001b[37m\u001b[0m \u001b[1m0s\u001b[0m 14ms/step - accuracy: 0.9458 - loss: 0.1381 - val_accuracy: 0.9216 - val_loss: 0.1989\n",
      "Epoch 39/50\n",
      "\u001b[1m26/26\u001b[0m \u001b[32m━━━━━━━━━━━━━━━━━━━━\u001b[0m\u001b[37m\u001b[0m \u001b[1m0s\u001b[0m 15ms/step - accuracy: 0.9495 - loss: 0.1256 - val_accuracy: 0.9216 - val_loss: 0.2003\n",
      "Epoch 40/50\n",
      "\u001b[1m26/26\u001b[0m \u001b[32m━━━━━━━━━━━━━━━━━━━━\u001b[0m\u001b[37m\u001b[0m \u001b[1m0s\u001b[0m 16ms/step - accuracy: 0.9476 - loss: 0.1435 - val_accuracy: 0.9314 - val_loss: 0.1897\n",
      "Epoch 41/50\n",
      "\u001b[1m26/26\u001b[0m \u001b[32m━━━━━━━━━━━━━━━━━━━━\u001b[0m\u001b[37m\u001b[0m \u001b[1m1s\u001b[0m 17ms/step - accuracy: 0.9450 - loss: 0.1218 - val_accuracy: 0.9216 - val_loss: 0.1858\n",
      "Epoch 42/50\n",
      "\u001b[1m26/26\u001b[0m \u001b[32m━━━━━━━━━━━━━━━━━━━━\u001b[0m\u001b[37m\u001b[0m \u001b[1m0s\u001b[0m 17ms/step - accuracy: 0.9530 - loss: 0.1367 - val_accuracy: 0.9412 - val_loss: 0.1850\n",
      "Epoch 43/50\n",
      "\u001b[1m26/26\u001b[0m \u001b[32m━━━━━━━━━━━━━━━━━━━━\u001b[0m\u001b[37m\u001b[0m \u001b[1m0s\u001b[0m 16ms/step - accuracy: 0.9457 - loss: 0.1179 - val_accuracy: 0.9412 - val_loss: 0.1834\n",
      "Epoch 44/50\n",
      "\u001b[1m26/26\u001b[0m \u001b[32m━━━━━━━━━━━━━━━━━━━━\u001b[0m\u001b[37m\u001b[0m \u001b[1m0s\u001b[0m 15ms/step - accuracy: 0.9558 - loss: 0.1146 - val_accuracy: 0.9118 - val_loss: 0.1887\n",
      "Epoch 45/50\n",
      "\u001b[1m26/26\u001b[0m \u001b[32m━━━━━━━━━━━━━━━━━━━━\u001b[0m\u001b[37m\u001b[0m \u001b[1m0s\u001b[0m 16ms/step - accuracy: 0.9650 - loss: 0.0971 - val_accuracy: 0.9314 - val_loss: 0.1640\n",
      "Epoch 46/50\n",
      "\u001b[1m26/26\u001b[0m \u001b[32m━━━━━━━━━━━━━━━━━━━━\u001b[0m\u001b[37m\u001b[0m \u001b[1m0s\u001b[0m 16ms/step - accuracy: 0.9686 - loss: 0.1021 - val_accuracy: 0.9314 - val_loss: 0.1574\n",
      "Epoch 47/50\n",
      "\u001b[1m26/26\u001b[0m \u001b[32m━━━━━━━━━━━━━━━━━━━━\u001b[0m\u001b[37m\u001b[0m \u001b[1m0s\u001b[0m 15ms/step - accuracy: 0.9527 - loss: 0.0976 - val_accuracy: 0.9314 - val_loss: 0.1642\n",
      "Epoch 48/50\n",
      "\u001b[1m26/26\u001b[0m \u001b[32m━━━━━━━━━━━━━━━━━━━━\u001b[0m\u001b[37m\u001b[0m \u001b[1m0s\u001b[0m 16ms/step - accuracy: 0.9574 - loss: 0.1002 - val_accuracy: 0.9608 - val_loss: 0.1504\n",
      "Epoch 49/50\n",
      "\u001b[1m26/26\u001b[0m \u001b[32m━━━━━━━━━━━━━━━━━━━━\u001b[0m\u001b[37m\u001b[0m \u001b[1m0s\u001b[0m 16ms/step - accuracy: 0.9690 - loss: 0.0998 - val_accuracy: 0.9314 - val_loss: 0.1520\n",
      "Epoch 50/50\n",
      "\u001b[1m26/26\u001b[0m \u001b[32m━━━━━━━━━━━━━━━━━━━━\u001b[0m\u001b[37m\u001b[0m \u001b[1m0s\u001b[0m 15ms/step - accuracy: 0.9658 - loss: 0.0953 - val_accuracy: 0.9412 - val_loss: 0.1529\n"
     ]
    }
   ],
   "source": [
    "# Train model\n",
    "cnn_history = cnn_model.fit(\n",
    "    X_train_dl, y_train,\n",
    "    epochs=50,\n",
    "    batch_size=32,\n",
    "    validation_data=(X_val_dl, y_val),\n",
    "    callbacks=[early_stop],\n",
    "    verbose=1\n",
    ")"
   ]
  },
  {
   "cell_type": "code",
   "execution_count": 13,
   "id": "e8846795-1486-49a3-a5d1-e5f0b23babbb",
   "metadata": {},
   "outputs": [
    {
     "name": "stdout",
     "output_type": "stream",
     "text": [
      "\u001b[1m4/4\u001b[0m \u001b[32m━━━━━━━━━━━━━━━━━━━━\u001b[0m\u001b[37m\u001b[0m \u001b[1m0s\u001b[0m 69ms/step\n"
     ]
    }
   ],
   "source": [
    "# Evaluate on test set\n",
    "cnn_test_pred_proba = cnn_model.predict(X_test_dl).flatten()\n",
    "cnn_test_pred = (cnn_test_pred_proba > 0.5).astype(int)"
   ]
  },
  {
   "cell_type": "code",
   "execution_count": 14,
   "id": "62c1f0cb-b26e-4a80-8c01-b7ca050eeb0e",
   "metadata": {},
   "outputs": [
    {
     "name": "stdout",
     "output_type": "stream",
     "text": [
      "CNN Test Performance Metrics:\n",
      "Accuracy: 96.08%\n",
      "ROC-AUC: 0.99\n",
      "Recall: 0.93\n",
      "Precision: 1.00\n",
      "F1-Score: 0.97\n",
      "Confusion Matrix:\n",
      " [[41  0]\n",
      " [ 4 57]]\n"
     ]
    },
    {
     "data": {
      "image/png": "[encoded data removed]",
      "text/plain": [
       "<Figure size 800x600 with 1 Axes>"
      ]
     },
     "metadata": {},
     "output_type": "display_data"
    }
   ],
   "source": [
    "# Metrics\n",
    "cnn_accuracy = accuracy_score(y_test, cnn_test_pred)\n",
    "cnn_report = classification_report(y_test, cnn_test_pred, output_dict=True)\n",
    "cnn_cm = confusion_matrix(y_test, cnn_test_pred)\n",
    "cnn_fpr, cnn_tpr, _ = roc_curve(y_test, cnn_test_pred_proba)\n",
    "cnn_roc_auc = auc(cnn_fpr, cnn_tpr)\n",
    "\n",
    "print(\"CNN Test Performance Metrics:\")\n",
    "print(f\"Accuracy: {cnn_accuracy*100:.2f}%\")\n",
    "print(f\"ROC-AUC: {cnn_roc_auc:.2f}\")\n",
    "print(f\"Recall: {cnn_report['1']['recall']:.2f}\")\n",
    "print(f\"Precision: {cnn_report['1']['precision']:.2f}\")\n",
    "print(f\"F1-Score: {cnn_report['1']['f1-score']:.2f}\")\n",
    "print(\"Confusion Matrix:\\n\", cnn_cm)\n",
    "\n",
    "# Plot accuracy\n",
    "plt.figure(figsize=(8, 6))\n",
    "plt.plot(cnn_history.history['accuracy'], label='Train Accuracy')\n",
    "plt.plot(cnn_history.history['val_accuracy'], label='Val Accuracy')\n",
    "plt.title('CNN Accuracy vs Validation Accuracy')\n",
    "plt.xlabel('Epoch')\n",
    "plt.ylabel('Accuracy')\n",
    "plt.legend()\n",
    "plt.grid(True)\n",
    "plt.show()"
   ]
  },
  {
   "cell_type": "code",
   "execution_count": null,
   "id": "9dbb0de9-98ef-4625-8ddc-1b2c4e42845f",
   "metadata": {},
   "outputs": [],
   "source": []
  }
 ],
 "metadata": {
  "kernelspec": {
   "display_name": "Python 3 (ipykernel)",
   "language": "python",
   "name": "python3"
  },
  "language_info": {
   "codemirror_mode": {
    "name": "ipython",
    "version": 3
   },
   "file_extension": ".py",
   "mimetype": "text/x-python",
   "name": "python",
   "nbconvert_exporter": "python",
   "pygments_lexer": "ipython3",
   "version": "3.11.0rc2"
  }
 },
 "nbformat": 4,
 "nbformat_minor": 5
}
