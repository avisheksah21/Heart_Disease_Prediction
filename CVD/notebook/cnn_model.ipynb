{
 "cells": [
  {
   "cell_type": "code",
   "execution_count": 39,
   "id": "bc99e979-c5eb-4a45-a14a-e713c26bda16",
   "metadata": {},
   "outputs": [],
   "source": [
    "import pandas as pd\n",
    "import numpy as np\n",
    "import torch\n",
    "import torch.nn as nn\n",
    "import torch.optim as optim\n",
    "from sklearn.model_selection import train_test_split\n",
    "from sklearn.preprocessing import StandardScaler, OneHotEncoder\n",
    "from sklearn.compose import ColumnTransformer\n",
    "from sklearn.metrics import accuracy_score, roc_auc_score, classification_report, roc_curve, auc\n",
    "from sklearn.metrics import confusion_matrix, ConfusionMatrixDisplay\n",
    "import matplotlib.pyplot as plt\n",
    "import seaborn as sns"
   ]
  },
  {
   "cell_type": "code",
   "execution_count": 40,
   "id": "26b1c8a1-31ff-4d2b-bb31-930458e5fdb8",
   "metadata": {},
   "outputs": [],
   "source": [
    "#dataset loading\n",
    "dataset = pd.read_csv(\"C:/Users/avish/Desktop/Sem 8/Final Project/Heart_Disease_Prediction/CVD/data/heart.csv\")"
   ]
  },
  {
   "cell_type": "code",
   "execution_count": 41,
   "id": "1f83a4f3-e37a-4649-81da-b9065bd84e54",
   "metadata": {},
   "outputs": [],
   "source": [
    "# Rename columns (from your previous code)\n",
    "dataset = dataset.rename(\n",
    "    columns={\n",
    "        'cp': 'chest_pain_type',\n",
    "        'trestbps': 'resting_blood_pressure',\n",
    "        'chol': 'cholesterol',\n",
    "        'fbs': 'fasting_blood_sugar',\n",
    "        'restecg': 'resting_electrocardiogram',\n",
    "        'thalach': 'max_heart_rate_achieved',\n",
    "        'exang': 'exercise_induced_angina',\n",
    "        'oldpeak': 'st_depression',\n",
    "        'slope': 'st_slope',\n",
    "        'ca': 'num_major_vessels',\n",
    "        'thal': 'thalassemia'\n",
    "    }\n",
    ")"
   ]
  },
  {
   "cell_type": "code",
   "execution_count": 44,
   "id": "87c0c9a9-5143-4414-86c2-186f4cf00885",
   "metadata": {},
   "outputs": [
    {
     "name": "stdout",
     "output_type": "stream",
     "text": [
      "The length of the data row now is 1000 instead of 1025\n"
     ]
    }
   ],
   "source": [
    "# dropping the wrong ca vlaues and error values from thal\n",
    "dataset = dataset[dataset['num_major_vessels']<4]\n",
    "dataset = dataset[dataset['thalassemia']>0]\n",
    "print(f'The length of the data row now is {len(dataset)} instead of 1025')"
   ]
  },
  {
   "cell_type": "code",
   "execution_count": null,
   "id": "aa464fcc-e8a8-4336-adfc-1a4fddd0d6eb",
   "metadata": {},
   "outputs": [],
   "source": []
  }
 ],
 "metadata": {
  "kernelspec": {
   "display_name": "Python 3 (ipykernel)",
   "language": "python",
   "name": "python3"
  },
  "language_info": {
   "codemirror_mode": {
    "name": "ipython",
    "version": 3
   },
   "file_extension": ".py",
   "mimetype": "text/x-python",
   "name": "python",
   "nbconvert_exporter": "python",
   "pygments_lexer": "ipython3",
   "version": "3.13.0rc3"
  }
 },
 "nbformat": 4,
 "nbformat_minor": 5
}
